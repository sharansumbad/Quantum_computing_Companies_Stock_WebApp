{
 "cells": [
  {
   "cell_type": "code",
   "execution_count": 1,
   "id": "01abdbc1",
   "metadata": {},
   "outputs": [],
   "source": [
    "import pandas as pd\n",
    "import datetime as dt"
   ]
  },
  {
   "cell_type": "code",
   "execution_count": 2,
   "id": "b14a60b0",
   "metadata": {},
   "outputs": [],
   "source": [
    "data = pd.read_csv('quantumstock1.csv')"
   ]
  },
  {
   "cell_type": "code",
   "execution_count": 3,
   "id": "9bcc89b3",
   "metadata": {},
   "outputs": [],
   "source": [
    "data['Date']= pd.to_datetime(data['Date'])"
   ]
  },
  {
   "cell_type": "code",
   "execution_count": 4,
   "id": "e501ef12",
   "metadata": {},
   "outputs": [
    {
     "name": "stdout",
     "output_type": "stream",
     "text": [
      "<class 'pandas.core.frame.DataFrame'>\n",
      "RangeIndex: 136518 entries, 0 to 136517\n",
      "Data columns (total 8 columns):\n",
      " #   Column    Non-Null Count   Dtype         \n",
      "---  ------    --------------   -----         \n",
      " 0   Date      136518 non-null  datetime64[ns]\n",
      " 1   open      136473 non-null  float64       \n",
      " 2   high      136473 non-null  float64       \n",
      " 3   low       136473 non-null  float64       \n",
      " 4   close     136473 non-null  float64       \n",
      " 5   adjclose  136473 non-null  float64       \n",
      " 6   volume    136473 non-null  float64       \n",
      " 7   ticker    136518 non-null  object        \n",
      "dtypes: datetime64[ns](1), float64(6), object(1)\n",
      "memory usage: 8.3+ MB\n"
     ]
    }
   ],
   "source": [
    "data.info()"
   ]
  },
  {
   "cell_type": "code",
   "execution_count": 5,
   "id": "bee1cff7",
   "metadata": {},
   "outputs": [
    {
     "data": {
      "text/plain": [
       "(136518, 8)"
      ]
     },
     "execution_count": 5,
     "metadata": {},
     "output_type": "execute_result"
    }
   ],
   "source": [
    "data.shape"
   ]
  },
  {
   "cell_type": "code",
   "execution_count": 6,
   "id": "b2e140ea",
   "metadata": {},
   "outputs": [
    {
     "data": {
      "text/plain": [
       "Timestamp('1970-03-25 00:00:00')"
      ]
     },
     "execution_count": 6,
     "metadata": {},
     "output_type": "execute_result"
    }
   ],
   "source": [
    "data['Date'].min()"
   ]
  },
  {
   "cell_type": "code",
   "execution_count": 7,
   "id": "27b42b37",
   "metadata": {},
   "outputs": [
    {
     "data": {
      "text/plain": [
       "Timestamp('2022-03-04 00:00:00')"
      ]
     },
     "execution_count": 7,
     "metadata": {},
     "output_type": "execute_result"
    }
   ],
   "source": [
    "data['Date'].max()"
   ]
  },
  {
   "cell_type": "code",
   "execution_count": 8,
   "id": "05fa0adf",
   "metadata": {},
   "outputs": [
    {
     "data": {
      "text/html": [
       "<div>\n",
       "<style scoped>\n",
       "    .dataframe tbody tr th:only-of-type {\n",
       "        vertical-align: middle;\n",
       "    }\n",
       "\n",
       "    .dataframe tbody tr th {\n",
       "        vertical-align: top;\n",
       "    }\n",
       "\n",
       "    .dataframe thead th {\n",
       "        text-align: right;\n",
       "    }\n",
       "</style>\n",
       "<table border=\"1\" class=\"dataframe\">\n",
       "  <thead>\n",
       "    <tr style=\"text-align: right;\">\n",
       "      <th></th>\n",
       "      <th>Date</th>\n",
       "      <th>open</th>\n",
       "      <th>high</th>\n",
       "      <th>low</th>\n",
       "      <th>close</th>\n",
       "      <th>adjclose</th>\n",
       "      <th>volume</th>\n",
       "      <th>ticker</th>\n",
       "    </tr>\n",
       "  </thead>\n",
       "  <tbody>\n",
       "    <tr>\n",
       "      <th>0</th>\n",
       "      <td>2021-01-04</td>\n",
       "      <td>11.125</td>\n",
       "      <td>11.25</td>\n",
       "      <td>10.500</td>\n",
       "      <td>10.80</td>\n",
       "      <td>10.80</td>\n",
       "      <td>150500.0</td>\n",
       "      <td>IONQ</td>\n",
       "    </tr>\n",
       "    <tr>\n",
       "      <th>1</th>\n",
       "      <td>2021-01-05</td>\n",
       "      <td>10.850</td>\n",
       "      <td>11.83</td>\n",
       "      <td>10.750</td>\n",
       "      <td>11.11</td>\n",
       "      <td>11.11</td>\n",
       "      <td>165300.0</td>\n",
       "      <td>IONQ</td>\n",
       "    </tr>\n",
       "    <tr>\n",
       "      <th>2</th>\n",
       "      <td>2021-01-06</td>\n",
       "      <td>11.500</td>\n",
       "      <td>11.50</td>\n",
       "      <td>11.000</td>\n",
       "      <td>11.05</td>\n",
       "      <td>11.05</td>\n",
       "      <td>175600.0</td>\n",
       "      <td>IONQ</td>\n",
       "    </tr>\n",
       "    <tr>\n",
       "      <th>3</th>\n",
       "      <td>2021-01-07</td>\n",
       "      <td>11.500</td>\n",
       "      <td>11.50</td>\n",
       "      <td>11.050</td>\n",
       "      <td>11.11</td>\n",
       "      <td>11.11</td>\n",
       "      <td>94200.0</td>\n",
       "      <td>IONQ</td>\n",
       "    </tr>\n",
       "    <tr>\n",
       "      <th>4</th>\n",
       "      <td>2021-01-08</td>\n",
       "      <td>11.650</td>\n",
       "      <td>12.35</td>\n",
       "      <td>11.000</td>\n",
       "      <td>11.01</td>\n",
       "      <td>11.01</td>\n",
       "      <td>137500.0</td>\n",
       "      <td>IONQ</td>\n",
       "    </tr>\n",
       "    <tr>\n",
       "      <th>5</th>\n",
       "      <td>2021-01-11</td>\n",
       "      <td>11.800</td>\n",
       "      <td>11.80</td>\n",
       "      <td>10.800</td>\n",
       "      <td>11.17</td>\n",
       "      <td>11.17</td>\n",
       "      <td>162600.0</td>\n",
       "      <td>IONQ</td>\n",
       "    </tr>\n",
       "    <tr>\n",
       "      <th>6</th>\n",
       "      <td>2021-01-12</td>\n",
       "      <td>11.800</td>\n",
       "      <td>11.80</td>\n",
       "      <td>11.070</td>\n",
       "      <td>11.18</td>\n",
       "      <td>11.18</td>\n",
       "      <td>210700.0</td>\n",
       "      <td>IONQ</td>\n",
       "    </tr>\n",
       "    <tr>\n",
       "      <th>7</th>\n",
       "      <td>2021-01-13</td>\n",
       "      <td>11.340</td>\n",
       "      <td>11.37</td>\n",
       "      <td>10.970</td>\n",
       "      <td>11.20</td>\n",
       "      <td>11.20</td>\n",
       "      <td>386100.0</td>\n",
       "      <td>IONQ</td>\n",
       "    </tr>\n",
       "    <tr>\n",
       "      <th>8</th>\n",
       "      <td>2021-01-14</td>\n",
       "      <td>11.310</td>\n",
       "      <td>11.70</td>\n",
       "      <td>11.225</td>\n",
       "      <td>11.44</td>\n",
       "      <td>11.44</td>\n",
       "      <td>291000.0</td>\n",
       "      <td>IONQ</td>\n",
       "    </tr>\n",
       "    <tr>\n",
       "      <th>9</th>\n",
       "      <td>2021-01-15</td>\n",
       "      <td>11.570</td>\n",
       "      <td>11.79</td>\n",
       "      <td>11.110</td>\n",
       "      <td>11.22</td>\n",
       "      <td>11.22</td>\n",
       "      <td>269600.0</td>\n",
       "      <td>IONQ</td>\n",
       "    </tr>\n",
       "  </tbody>\n",
       "</table>\n",
       "</div>"
      ],
      "text/plain": [
       "        Date    open   high     low  close  adjclose    volume ticker\n",
       "0 2021-01-04  11.125  11.25  10.500  10.80     10.80  150500.0   IONQ\n",
       "1 2021-01-05  10.850  11.83  10.750  11.11     11.11  165300.0   IONQ\n",
       "2 2021-01-06  11.500  11.50  11.000  11.05     11.05  175600.0   IONQ\n",
       "3 2021-01-07  11.500  11.50  11.050  11.11     11.11   94200.0   IONQ\n",
       "4 2021-01-08  11.650  12.35  11.000  11.01     11.01  137500.0   IONQ\n",
       "5 2021-01-11  11.800  11.80  10.800  11.17     11.17  162600.0   IONQ\n",
       "6 2021-01-12  11.800  11.80  11.070  11.18     11.18  210700.0   IONQ\n",
       "7 2021-01-13  11.340  11.37  10.970  11.20     11.20  386100.0   IONQ\n",
       "8 2021-01-14  11.310  11.70  11.225  11.44     11.44  291000.0   IONQ\n",
       "9 2021-01-15  11.570  11.79  11.110  11.22     11.22  269600.0   IONQ"
      ]
     },
     "execution_count": 8,
     "metadata": {},
     "output_type": "execute_result"
    }
   ],
   "source": [
    "data.head(10)"
   ]
  },
  {
   "cell_type": "code",
   "execution_count": 9,
   "id": "4ed7c9b1",
   "metadata": {},
   "outputs": [],
   "source": [
    "def format(date):\n",
    "    date = date.strftime('%m%d%Y')\n",
    "    return date\n"
   ]
  },
  {
   "cell_type": "code",
   "execution_count": 10,
   "id": "3be0213c",
   "metadata": {},
   "outputs": [],
   "source": [
    "data['ID'] = data['ticker'] + data['Date'].map(format)"
   ]
  },
  {
   "cell_type": "code",
   "execution_count": 16,
   "id": "c361610e",
   "metadata": {},
   "outputs": [
    {
     "data": {
      "text/html": [
       "<div>\n",
       "<style scoped>\n",
       "    .dataframe tbody tr th:only-of-type {\n",
       "        vertical-align: middle;\n",
       "    }\n",
       "\n",
       "    .dataframe tbody tr th {\n",
       "        vertical-align: top;\n",
       "    }\n",
       "\n",
       "    .dataframe thead th {\n",
       "        text-align: right;\n",
       "    }\n",
       "</style>\n",
       "<table border=\"1\" class=\"dataframe\">\n",
       "  <thead>\n",
       "    <tr style=\"text-align: right;\">\n",
       "      <th></th>\n",
       "      <th>Date</th>\n",
       "      <th>open</th>\n",
       "      <th>high</th>\n",
       "      <th>low</th>\n",
       "      <th>close</th>\n",
       "      <th>adjclose</th>\n",
       "      <th>volume</th>\n",
       "      <th>ticker</th>\n",
       "      <th>ID</th>\n",
       "    </tr>\n",
       "  </thead>\n",
       "  <tbody>\n",
       "    <tr>\n",
       "      <th>0</th>\n",
       "      <td>2021-01-04</td>\n",
       "      <td>11.125</td>\n",
       "      <td>11.25</td>\n",
       "      <td>10.500</td>\n",
       "      <td>10.80</td>\n",
       "      <td>10.80</td>\n",
       "      <td>150500.0</td>\n",
       "      <td>IONQ</td>\n",
       "      <td>IONQ01042021</td>\n",
       "    </tr>\n",
       "    <tr>\n",
       "      <th>1</th>\n",
       "      <td>2021-01-05</td>\n",
       "      <td>10.850</td>\n",
       "      <td>11.83</td>\n",
       "      <td>10.750</td>\n",
       "      <td>11.11</td>\n",
       "      <td>11.11</td>\n",
       "      <td>165300.0</td>\n",
       "      <td>IONQ</td>\n",
       "      <td>IONQ01052021</td>\n",
       "    </tr>\n",
       "    <tr>\n",
       "      <th>2</th>\n",
       "      <td>2021-01-06</td>\n",
       "      <td>11.500</td>\n",
       "      <td>11.50</td>\n",
       "      <td>11.000</td>\n",
       "      <td>11.05</td>\n",
       "      <td>11.05</td>\n",
       "      <td>175600.0</td>\n",
       "      <td>IONQ</td>\n",
       "      <td>IONQ01062021</td>\n",
       "    </tr>\n",
       "    <tr>\n",
       "      <th>3</th>\n",
       "      <td>2021-01-07</td>\n",
       "      <td>11.500</td>\n",
       "      <td>11.50</td>\n",
       "      <td>11.050</td>\n",
       "      <td>11.11</td>\n",
       "      <td>11.11</td>\n",
       "      <td>94200.0</td>\n",
       "      <td>IONQ</td>\n",
       "      <td>IONQ01072021</td>\n",
       "    </tr>\n",
       "    <tr>\n",
       "      <th>4</th>\n",
       "      <td>2021-01-08</td>\n",
       "      <td>11.650</td>\n",
       "      <td>12.35</td>\n",
       "      <td>11.000</td>\n",
       "      <td>11.01</td>\n",
       "      <td>11.01</td>\n",
       "      <td>137500.0</td>\n",
       "      <td>IONQ</td>\n",
       "      <td>IONQ01082021</td>\n",
       "    </tr>\n",
       "    <tr>\n",
       "      <th>5</th>\n",
       "      <td>2021-01-11</td>\n",
       "      <td>11.800</td>\n",
       "      <td>11.80</td>\n",
       "      <td>10.800</td>\n",
       "      <td>11.17</td>\n",
       "      <td>11.17</td>\n",
       "      <td>162600.0</td>\n",
       "      <td>IONQ</td>\n",
       "      <td>IONQ01112021</td>\n",
       "    </tr>\n",
       "    <tr>\n",
       "      <th>6</th>\n",
       "      <td>2021-01-12</td>\n",
       "      <td>11.800</td>\n",
       "      <td>11.80</td>\n",
       "      <td>11.070</td>\n",
       "      <td>11.18</td>\n",
       "      <td>11.18</td>\n",
       "      <td>210700.0</td>\n",
       "      <td>IONQ</td>\n",
       "      <td>IONQ01122021</td>\n",
       "    </tr>\n",
       "    <tr>\n",
       "      <th>7</th>\n",
       "      <td>2021-01-13</td>\n",
       "      <td>11.340</td>\n",
       "      <td>11.37</td>\n",
       "      <td>10.970</td>\n",
       "      <td>11.20</td>\n",
       "      <td>11.20</td>\n",
       "      <td>386100.0</td>\n",
       "      <td>IONQ</td>\n",
       "      <td>IONQ01132021</td>\n",
       "    </tr>\n",
       "    <tr>\n",
       "      <th>8</th>\n",
       "      <td>2021-01-14</td>\n",
       "      <td>11.310</td>\n",
       "      <td>11.70</td>\n",
       "      <td>11.225</td>\n",
       "      <td>11.44</td>\n",
       "      <td>11.44</td>\n",
       "      <td>291000.0</td>\n",
       "      <td>IONQ</td>\n",
       "      <td>IONQ01142021</td>\n",
       "    </tr>\n",
       "    <tr>\n",
       "      <th>9</th>\n",
       "      <td>2021-01-15</td>\n",
       "      <td>11.570</td>\n",
       "      <td>11.79</td>\n",
       "      <td>11.110</td>\n",
       "      <td>11.22</td>\n",
       "      <td>11.22</td>\n",
       "      <td>269600.0</td>\n",
       "      <td>IONQ</td>\n",
       "      <td>IONQ01152021</td>\n",
       "    </tr>\n",
       "  </tbody>\n",
       "</table>\n",
       "</div>"
      ],
      "text/plain": [
       "        Date    open   high     low  close  adjclose    volume ticker  \\\n",
       "0 2021-01-04  11.125  11.25  10.500  10.80     10.80  150500.0   IONQ   \n",
       "1 2021-01-05  10.850  11.83  10.750  11.11     11.11  165300.0   IONQ   \n",
       "2 2021-01-06  11.500  11.50  11.000  11.05     11.05  175600.0   IONQ   \n",
       "3 2021-01-07  11.500  11.50  11.050  11.11     11.11   94200.0   IONQ   \n",
       "4 2021-01-08  11.650  12.35  11.000  11.01     11.01  137500.0   IONQ   \n",
       "5 2021-01-11  11.800  11.80  10.800  11.17     11.17  162600.0   IONQ   \n",
       "6 2021-01-12  11.800  11.80  11.070  11.18     11.18  210700.0   IONQ   \n",
       "7 2021-01-13  11.340  11.37  10.970  11.20     11.20  386100.0   IONQ   \n",
       "8 2021-01-14  11.310  11.70  11.225  11.44     11.44  291000.0   IONQ   \n",
       "9 2021-01-15  11.570  11.79  11.110  11.22     11.22  269600.0   IONQ   \n",
       "\n",
       "             ID  \n",
       "0  IONQ01042021  \n",
       "1  IONQ01052021  \n",
       "2  IONQ01062021  \n",
       "3  IONQ01072021  \n",
       "4  IONQ01082021  \n",
       "5  IONQ01112021  \n",
       "6  IONQ01122021  \n",
       "7  IONQ01132021  \n",
       "8  IONQ01142021  \n",
       "9  IONQ01152021  "
      ]
     },
     "execution_count": 16,
     "metadata": {},
     "output_type": "execute_result"
    }
   ],
   "source": [
    "data.head(10)"
   ]
  },
  {
   "cell_type": "code",
   "execution_count": 11,
   "id": "95bce69a",
   "metadata": {},
   "outputs": [
    {
     "data": {
      "text/plain": [
       "19"
      ]
     },
     "execution_count": 11,
     "metadata": {},
     "output_type": "execute_result"
    }
   ],
   "source": [
    "data['ID'].duplicated().sum()"
   ]
  },
  {
   "cell_type": "code",
   "execution_count": 12,
   "id": "6d75b1d6",
   "metadata": {},
   "outputs": [],
   "source": [
    "data['Date'] = pd.to_datetime(data['Date'])"
   ]
  },
  {
   "cell_type": "code",
   "execution_count": 13,
   "id": "f59b996e",
   "metadata": {},
   "outputs": [
    {
     "data": {
      "text/plain": [
       "'01052021'"
      ]
     },
     "execution_count": 13,
     "metadata": {},
     "output_type": "execute_result"
    }
   ],
   "source": [
    "data['Date'][1].strftime('%m%d%Y')"
   ]
  },
  {
   "cell_type": "code",
   "execution_count": 15,
   "id": "6c839241",
   "metadata": {},
   "outputs": [
    {
     "data": {
      "text/plain": [
       "0          IONQ01042021\n",
       "1          IONQ01052021\n",
       "2          IONQ01062021\n",
       "3          IONQ01072021\n",
       "4          IONQ01082021\n",
       "              ...      \n",
       "136513    TOSYY02282022\n",
       "136514    TOSYY03012022\n",
       "136515    TOSYY03022022\n",
       "136516    TOSYY03032022\n",
       "136517    TOSYY03032022\n",
       "Name: ID, Length: 136518, dtype: object"
      ]
     },
     "execution_count": 15,
     "metadata": {},
     "output_type": "execute_result"
    }
   ],
   "source": [
    "data['ID']"
   ]
  },
  {
   "cell_type": "code",
   "execution_count": 121,
   "id": "998e6596",
   "metadata": {},
   "outputs": [
    {
     "data": {
      "text/html": [
       "<div>\n",
       "<style scoped>\n",
       "    .dataframe tbody tr th:only-of-type {\n",
       "        vertical-align: middle;\n",
       "    }\n",
       "\n",
       "    .dataframe tbody tr th {\n",
       "        vertical-align: top;\n",
       "    }\n",
       "\n",
       "    .dataframe thead th {\n",
       "        text-align: right;\n",
       "    }\n",
       "</style>\n",
       "<table border=\"1\" class=\"dataframe\">\n",
       "  <thead>\n",
       "    <tr style=\"text-align: right;\">\n",
       "      <th></th>\n",
       "      <th>Date</th>\n",
       "      <th>open</th>\n",
       "      <th>high</th>\n",
       "      <th>low</th>\n",
       "      <th>close</th>\n",
       "      <th>adjclose</th>\n",
       "      <th>volume</th>\n",
       "      <th>ticker</th>\n",
       "      <th>ID</th>\n",
       "    </tr>\n",
       "  </thead>\n",
       "  <tbody>\n",
       "    <tr>\n",
       "      <th>0</th>\n",
       "      <td>2021-01-04</td>\n",
       "      <td>11.125</td>\n",
       "      <td>11.25</td>\n",
       "      <td>10.50</td>\n",
       "      <td>10.80</td>\n",
       "      <td>10.80</td>\n",
       "      <td>150500.0</td>\n",
       "      <td>IONQ</td>\n",
       "      <td>IONQ01042021</td>\n",
       "    </tr>\n",
       "    <tr>\n",
       "      <th>1</th>\n",
       "      <td>2021-01-05</td>\n",
       "      <td>10.850</td>\n",
       "      <td>11.83</td>\n",
       "      <td>10.75</td>\n",
       "      <td>11.11</td>\n",
       "      <td>11.11</td>\n",
       "      <td>165300.0</td>\n",
       "      <td>IONQ</td>\n",
       "      <td>IONQ01052021</td>\n",
       "    </tr>\n",
       "    <tr>\n",
       "      <th>2</th>\n",
       "      <td>2021-01-06</td>\n",
       "      <td>11.500</td>\n",
       "      <td>11.50</td>\n",
       "      <td>11.00</td>\n",
       "      <td>11.05</td>\n",
       "      <td>11.05</td>\n",
       "      <td>175600.0</td>\n",
       "      <td>IONQ</td>\n",
       "      <td>IONQ01062021</td>\n",
       "    </tr>\n",
       "    <tr>\n",
       "      <th>3</th>\n",
       "      <td>2021-01-07</td>\n",
       "      <td>11.500</td>\n",
       "      <td>11.50</td>\n",
       "      <td>11.05</td>\n",
       "      <td>11.11</td>\n",
       "      <td>11.11</td>\n",
       "      <td>94200.0</td>\n",
       "      <td>IONQ</td>\n",
       "      <td>IONQ01072021</td>\n",
       "    </tr>\n",
       "    <tr>\n",
       "      <th>4</th>\n",
       "      <td>2021-01-08</td>\n",
       "      <td>11.650</td>\n",
       "      <td>12.35</td>\n",
       "      <td>11.00</td>\n",
       "      <td>11.01</td>\n",
       "      <td>11.01</td>\n",
       "      <td>137500.0</td>\n",
       "      <td>IONQ</td>\n",
       "      <td>IONQ01082021</td>\n",
       "    </tr>\n",
       "  </tbody>\n",
       "</table>\n",
       "</div>"
      ],
      "text/plain": [
       "        Date    open   high    low  close  adjclose    volume ticker  \\\n",
       "0 2021-01-04  11.125  11.25  10.50  10.80     10.80  150500.0   IONQ   \n",
       "1 2021-01-05  10.850  11.83  10.75  11.11     11.11  165300.0   IONQ   \n",
       "2 2021-01-06  11.500  11.50  11.00  11.05     11.05  175600.0   IONQ   \n",
       "3 2021-01-07  11.500  11.50  11.05  11.11     11.11   94200.0   IONQ   \n",
       "4 2021-01-08  11.650  12.35  11.00  11.01     11.01  137500.0   IONQ   \n",
       "\n",
       "             ID  \n",
       "0  IONQ01042021  \n",
       "1  IONQ01052021  \n",
       "2  IONQ01062021  \n",
       "3  IONQ01072021  \n",
       "4  IONQ01082021  "
      ]
     },
     "execution_count": 121,
     "metadata": {},
     "output_type": "execute_result"
    }
   ],
   "source": [
    "data.head()"
   ]
  },
  {
   "cell_type": "code",
   "execution_count": 122,
   "id": "72ed385b",
   "metadata": {},
   "outputs": [],
   "source": [
    "data = data.drop_duplicates(subset='ID')"
   ]
  },
  {
   "cell_type": "code",
   "execution_count": 123,
   "id": "18af5ab9",
   "metadata": {},
   "outputs": [],
   "source": [
    "data = data.dropna(subset=['ID'])"
   ]
  },
  {
   "cell_type": "code",
   "execution_count": 17,
   "id": "31b4cb53",
   "metadata": {},
   "outputs": [
    {
     "data": {
      "text/plain": [
       "Date         0\n",
       "open        45\n",
       "high        45\n",
       "low         45\n",
       "close       45\n",
       "adjclose    45\n",
       "volume      45\n",
       "ticker       0\n",
       "ID           0\n",
       "dtype: int64"
      ]
     },
     "execution_count": 17,
     "metadata": {},
     "output_type": "execute_result"
    }
   ],
   "source": [
    "data.isnull().sum()"
   ]
  },
  {
   "cell_type": "code",
   "execution_count": 18,
   "id": "af3284db",
   "metadata": {},
   "outputs": [
    {
     "data": {
      "text/plain": [
       "0"
      ]
     },
     "execution_count": 18,
     "metadata": {},
     "output_type": "execute_result"
    }
   ],
   "source": [
    "data.duplicated().sum()"
   ]
  },
  {
   "cell_type": "code",
   "execution_count": 124,
   "id": "8aa8ce66",
   "metadata": {},
   "outputs": [
    {
     "name": "stdout",
     "output_type": "stream",
     "text": [
      "<class 'pandas.core.frame.DataFrame'>\n",
      "Int64Index: 136499 entries, 0 to 136516\n",
      "Data columns (total 9 columns):\n",
      " #   Column    Non-Null Count   Dtype         \n",
      "---  ------    --------------   -----         \n",
      " 0   Date      136499 non-null  datetime64[ns]\n",
      " 1   open      136454 non-null  float64       \n",
      " 2   high      136454 non-null  float64       \n",
      " 3   low       136454 non-null  float64       \n",
      " 4   close     136454 non-null  float64       \n",
      " 5   adjclose  136454 non-null  float64       \n",
      " 6   volume    136454 non-null  float64       \n",
      " 7   ticker    136499 non-null  object        \n",
      " 8   ID        136499 non-null  object        \n",
      "dtypes: datetime64[ns](1), float64(6), object(2)\n",
      "memory usage: 10.4+ MB\n"
     ]
    }
   ],
   "source": [
    "data.info()"
   ]
  },
  {
   "cell_type": "code",
   "execution_count": 125,
   "id": "421b8510",
   "metadata": {},
   "outputs": [
    {
     "data": {
      "text/plain": [
       "Date         0\n",
       "open        45\n",
       "high        45\n",
       "low         45\n",
       "close       45\n",
       "adjclose    45\n",
       "volume      45\n",
       "ticker       0\n",
       "ID           0\n",
       "dtype: int64"
      ]
     },
     "execution_count": 125,
     "metadata": {},
     "output_type": "execute_result"
    }
   ],
   "source": [
    "data.isnull().sum()"
   ]
  },
  {
   "cell_type": "code",
   "execution_count": 126,
   "id": "60a8fb4a",
   "metadata": {},
   "outputs": [],
   "source": [
    "data.to_csv('QuantumStock.csv')"
   ]
  },
  {
   "cell_type": "code",
   "execution_count": 127,
   "id": "2bb46e75",
   "metadata": {},
   "outputs": [
    {
     "data": {
      "text/html": [
       "<div>\n",
       "<style scoped>\n",
       "    .dataframe tbody tr th:only-of-type {\n",
       "        vertical-align: middle;\n",
       "    }\n",
       "\n",
       "    .dataframe tbody tr th {\n",
       "        vertical-align: top;\n",
       "    }\n",
       "\n",
       "    .dataframe thead th {\n",
       "        text-align: right;\n",
       "    }\n",
       "</style>\n",
       "<table border=\"1\" class=\"dataframe\">\n",
       "  <thead>\n",
       "    <tr style=\"text-align: right;\">\n",
       "      <th></th>\n",
       "      <th>open</th>\n",
       "      <th>high</th>\n",
       "      <th>low</th>\n",
       "      <th>close</th>\n",
       "      <th>adjclose</th>\n",
       "      <th>volume</th>\n",
       "    </tr>\n",
       "  </thead>\n",
       "  <tbody>\n",
       "    <tr>\n",
       "      <th>count</th>\n",
       "      <td>136454.000000</td>\n",
       "      <td>136454.000000</td>\n",
       "      <td>136454.000000</td>\n",
       "      <td>136454.000000</td>\n",
       "      <td>136454.000000</td>\n",
       "      <td>1.364540e+05</td>\n",
       "    </tr>\n",
       "    <tr>\n",
       "      <th>mean</th>\n",
       "      <td>167.085286</td>\n",
       "      <td>168.858058</td>\n",
       "      <td>165.205896</td>\n",
       "      <td>167.065019</td>\n",
       "      <td>145.678917</td>\n",
       "      <td>1.256805e+07</td>\n",
       "    </tr>\n",
       "    <tr>\n",
       "      <th>std</th>\n",
       "      <td>499.800960</td>\n",
       "      <td>504.671103</td>\n",
       "      <td>494.459576</td>\n",
       "      <td>499.608868</td>\n",
       "      <td>451.884099</td>\n",
       "      <td>2.434121e+07</td>\n",
       "    </tr>\n",
       "    <tr>\n",
       "      <th>min</th>\n",
       "      <td>0.000000</td>\n",
       "      <td>0.015000</td>\n",
       "      <td>0.010000</td>\n",
       "      <td>0.015000</td>\n",
       "      <td>0.015000</td>\n",
       "      <td>0.000000e+00</td>\n",
       "    </tr>\n",
       "    <tr>\n",
       "      <th>25%</th>\n",
       "      <td>8.289150</td>\n",
       "      <td>8.390625</td>\n",
       "      <td>8.158371</td>\n",
       "      <td>8.282319</td>\n",
       "      <td>4.747128</td>\n",
       "      <td>8.074000e+05</td>\n",
       "    </tr>\n",
       "    <tr>\n",
       "      <th>50%</th>\n",
       "      <td>24.780001</td>\n",
       "      <td>25.059999</td>\n",
       "      <td>24.500000</td>\n",
       "      <td>24.796844</td>\n",
       "      <td>16.536671</td>\n",
       "      <td>3.271100e+06</td>\n",
       "    </tr>\n",
       "    <tr>\n",
       "      <th>75%</th>\n",
       "      <td>69.739998</td>\n",
       "      <td>70.545637</td>\n",
       "      <td>68.957499</td>\n",
       "      <td>69.760002</td>\n",
       "      <td>53.444435</td>\n",
       "      <td>1.122761e+07</td>\n",
       "    </tr>\n",
       "    <tr>\n",
       "      <th>max</th>\n",
       "      <td>5000.000000</td>\n",
       "      <td>5000.000000</td>\n",
       "      <td>5000.000000</td>\n",
       "      <td>5000.000000</td>\n",
       "      <td>5000.000000</td>\n",
       "      <td>1.123003e+09</td>\n",
       "    </tr>\n",
       "  </tbody>\n",
       "</table>\n",
       "</div>"
      ],
      "text/plain": [
       "                open           high            low          close  \\\n",
       "count  136454.000000  136454.000000  136454.000000  136454.000000   \n",
       "mean      167.085286     168.858058     165.205896     167.065019   \n",
       "std       499.800960     504.671103     494.459576     499.608868   \n",
       "min         0.000000       0.015000       0.010000       0.015000   \n",
       "25%         8.289150       8.390625       8.158371       8.282319   \n",
       "50%        24.780001      25.059999      24.500000      24.796844   \n",
       "75%        69.739998      70.545637      68.957499      69.760002   \n",
       "max      5000.000000    5000.000000    5000.000000    5000.000000   \n",
       "\n",
       "            adjclose        volume  \n",
       "count  136454.000000  1.364540e+05  \n",
       "mean      145.678917  1.256805e+07  \n",
       "std       451.884099  2.434121e+07  \n",
       "min         0.015000  0.000000e+00  \n",
       "25%         4.747128  8.074000e+05  \n",
       "50%        16.536671  3.271100e+06  \n",
       "75%        53.444435  1.122761e+07  \n",
       "max      5000.000000  1.123003e+09  "
      ]
     },
     "execution_count": 127,
     "metadata": {},
     "output_type": "execute_result"
    }
   ],
   "source": [
    "data.describe()"
   ]
  },
  {
   "cell_type": "code",
   "execution_count": 128,
   "id": "5bcce69f",
   "metadata": {},
   "outputs": [
    {
     "data": {
      "text/plain": [
       "Date         0\n",
       "open        45\n",
       "high        45\n",
       "low         45\n",
       "close       45\n",
       "adjclose    45\n",
       "volume      45\n",
       "ticker       0\n",
       "ID           0\n",
       "dtype: int64"
      ]
     },
     "execution_count": 128,
     "metadata": {},
     "output_type": "execute_result"
    }
   ],
   "source": [
    "data.isnull().sum()\n"
   ]
  },
  {
   "cell_type": "code",
   "execution_count": 130,
   "id": "b82ddd9e",
   "metadata": {},
   "outputs": [
    {
     "data": {
      "text/plain": [
       "IBM       13103\n",
       "RTX       13103\n",
       "LMT       11391\n",
       "INTC      10582\n",
       "NOC       10129\n",
       "T          9650\n",
       "MSFT       9068\n",
       "NOK        6968\n",
       "MIELY      6365\n",
       "AMZN       6242\n",
       "IFX.DE     5620\n",
       "ONE.V      5452\n",
       "4185.T     5294\n",
       "ACN        5189\n",
       "GOOG       4416\n",
       "BIDU       4173\n",
       "QUBT       3799\n",
       "TOSYY      3062\n",
       "QNC.V      2552\n",
       "IONQ        294\n",
       "RGTI          2\n",
       "Name: ticker, dtype: int64"
      ]
     },
     "execution_count": 130,
     "metadata": {},
     "output_type": "execute_result"
    }
   ],
   "source": [
    "data = data.dropna()\n",
    "data['ticker'].value_counts()"
   ]
  },
  {
   "cell_type": "code",
   "execution_count": 68,
   "id": "ab9256f4",
   "metadata": {},
   "outputs": [
    {
     "name": "stdout",
     "output_type": "stream",
     "text": [
      "<class 'pandas.core.frame.DataFrame'>\n",
      "Int64Index: 136454 entries, 0 to 136516\n",
      "Data columns (total 9 columns):\n",
      " #   Column    Non-Null Count   Dtype         \n",
      "---  ------    --------------   -----         \n",
      " 0   Date      136454 non-null  datetime64[ns]\n",
      " 1   open      136454 non-null  float64       \n",
      " 2   high      136454 non-null  float64       \n",
      " 3   low       136454 non-null  float64       \n",
      " 4   close     136454 non-null  float64       \n",
      " 5   adjclose  136454 non-null  float64       \n",
      " 6   volume    136454 non-null  float64       \n",
      " 7   ticker    136454 non-null  object        \n",
      " 8   ID        136454 non-null  object        \n",
      "dtypes: datetime64[ns](1), float64(6), object(2)\n",
      "memory usage: 10.4+ MB\n"
     ]
    }
   ],
   "source": [
    "data.info()"
   ]
  },
  {
   "cell_type": "code",
   "execution_count": 69,
   "id": "4f8f3e09",
   "metadata": {},
   "outputs": [
    {
     "data": {
      "text/plain": [
       "0"
      ]
     },
     "execution_count": 69,
     "metadata": {},
     "output_type": "execute_result"
    }
   ],
   "source": [
    "data['ID'].isnull().sum()"
   ]
  },
  {
   "cell_type": "code",
   "execution_count": 105,
   "id": "c2a7441a",
   "metadata": {},
   "outputs": [],
   "source": [
    "df = pd.read_csv('QuantumStock.csv')"
   ]
  },
  {
   "cell_type": "code",
   "execution_count": 106,
   "id": "ab3238c4",
   "metadata": {},
   "outputs": [
    {
     "data": {
      "text/plain": [
       "ID           0\n",
       "Date         0\n",
       "open        45\n",
       "high        45\n",
       "low         45\n",
       "close       45\n",
       "adjclose    45\n",
       "volume      45\n",
       "ticker       0\n",
       "dtype: int64"
      ]
     },
     "execution_count": 106,
     "metadata": {},
     "output_type": "execute_result"
    }
   ],
   "source": [
    "df.isnull().sum()"
   ]
  },
  {
   "cell_type": "code",
   "execution_count": null,
   "id": "f13b65a4",
   "metadata": {},
   "outputs": [],
   "source": []
  }
 ],
 "metadata": {
  "kernelspec": {
   "display_name": "Python 3",
   "language": "python",
   "name": "python3"
  },
  "language_info": {
   "codemirror_mode": {
    "name": "ipython",
    "version": 3
   },
   "file_extension": ".py",
   "mimetype": "text/x-python",
   "name": "python",
   "nbconvert_exporter": "python",
   "pygments_lexer": "ipython3",
   "version": "3.9.10"
  }
 },
 "nbformat": 4,
 "nbformat_minor": 5
}
